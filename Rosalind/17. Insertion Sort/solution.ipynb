{
 "cells": [
  {
   "cell_type": "code",
   "execution_count": 6,
   "metadata": {},
   "outputs": [
    {
     "data": {
      "text/plain": [
       "165935"
      ]
     },
     "execution_count": 6,
     "metadata": {},
     "output_type": "execute_result"
    }
   ],
   "source": [
    "with open('test.txt','r') as f:\n",
    "    s = f.read().splitlines()\n",
    "\n",
    "data = list(map(int,s[1].split()))\n",
    "\n",
    "count = 0\n",
    "for i in range(1, len(data)):\n",
    "    for j in range(i, 0, -1):\n",
    "        if data[j-1] > data[j]:\n",
    "            count += 1\n",
    "            data[j-1], data[j] = data[j], data[j-1]\n",
    "\n",
    "data\n",
    "count"
   ]
  }
 ],
 "metadata": {
  "kernelspec": {
   "display_name": "base",
   "language": "python",
   "name": "python3"
  },
  "language_info": {
   "codemirror_mode": {
    "name": "ipython",
    "version": 3
   },
   "file_extension": ".py",
   "mimetype": "text/x-python",
   "name": "python",
   "nbconvert_exporter": "python",
   "pygments_lexer": "ipython3",
   "version": "3.9.7 (default, Sep 16 2021, 16:59:28) [MSC v.1916 64 bit (AMD64)]"
  },
  "orig_nbformat": 4,
  "vscode": {
   "interpreter": {
    "hash": "38709400ec3aefb20b970684c6c04c6dd554d8452d33ffc6897a1dbcef2e7509"
   }
  }
 },
 "nbformat": 4,
 "nbformat_minor": 2
}
