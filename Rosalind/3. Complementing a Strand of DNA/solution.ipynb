{
 "cells": [
  {
   "cell_type": "code",
   "execution_count": 45,
   "metadata": {},
   "outputs": [
    {
     "data": {
      "text/plain": [
       "'GTCTACTGCCAGGAATGAAGCCGTGAATACGTATGTTGCACCTATTCGCAATGTAGGCTCATTGGTGGACCAGTCAGTTTTTGCTTAAAGCCGATCCTACGAGCACTAGGTGTGTTTCCTACGGTGAACAGCAGAACCCGGTACCCTTGGATAATATCATTTGTGTATTCATGATTACGTAGCAATATCCAATCACGTCGGAGACGCCGTAATAAAATGGCCGCATGGTGCTGTTCAGCTGTCCGGGTGGCTTGAACTTGGTTCTAGCAAGGACACTGTGCATTGCCCTCATTCGGATGGAGTCGTTACGATTACACACAGTAAAGGTCAACCCGTTGCATTATACATCGAACTGATTAATAGTCGTAGAGGAAAAGTGATAGCCTACGTGGCGGAGTGAGCGAACGCGGTGCTCCCTGAATGATATTACAACCTACTCTTAACAATAAGCAGGCTGAGGATTCGAAGTCTCCAAAACATATCAGTATGAATCGTCTTGTATGAGTAATGCCATAGGATGCATCCCTCCTAGCCCCTTCTCCTCACCCGTTATATCGTAGACAAAAAGAAGACCCAAACAGCTAGCACTCGCCCCCTGCCCATTTATCATACACTAATCAGCACTGAATGACATGGATCCCCTTACCCGAAGCGGGCCACCGCTCCAATTAGGAGACATACCTTACGACTGTCGTCCAACCAGTTTCAATGTCCTTCTTGCCGGAGCCGTCCTTAGGCTGATACGGCCCCTACTAGACCCCTCCTTGGTCCCCGAACTAGGAGCGATTCTCAACCCAGCAACGAAAGGGCGTCCATTCCTCTCTGAACACCCAGGTCGTGCCAATACGTCCCAGACCAGATTATGTTGACATCTGTAGCAGTCCTTTGCCGAACGGGGACGGTGTAGCTTACCCTAACTACAACCGACAGCCAATCCATGTTCGGAGAACGCCGGACAGACTCCCTAGTTCGAGGCGTAGTGAGTATAACGAGGCTG'"
      ]
     },
     "execution_count": 45,
     "metadata": {},
     "output_type": "execute_result"
    }
   ],
   "source": [
    "from collections import Counter\n",
    "import re\n",
    "f = open(\"test.txt\", \"r\")\n",
    "s = f.readline()\n",
    "\n",
    "rep = {\"A\":\"T\", \"C\":\"G\", \"G\":\"C\",\"T\":\"A\"}\n",
    "\n",
    "complement = {'A': 'T', 'C': 'G', 'G': 'C', 'T': 'A'}\n",
    "reverse_complement = \"\".join(complement.get(base, base) for base in reversed(s))\n",
    "\n",
    "reverse_complement\n"
   ]
  }
 ],
 "metadata": {
  "kernelspec": {
   "display_name": "base",
   "language": "python",
   "name": "python3"
  },
  "language_info": {
   "codemirror_mode": {
    "name": "ipython",
    "version": 3
   },
   "file_extension": ".py",
   "mimetype": "text/x-python",
   "name": "python",
   "nbconvert_exporter": "python",
   "pygments_lexer": "ipython3",
   "version": "3.9.7"
  },
  "orig_nbformat": 4,
  "vscode": {
   "interpreter": {
    "hash": "38709400ec3aefb20b970684c6c04c6dd554d8452d33ffc6897a1dbcef2e7509"
   }
  }
 },
 "nbformat": 4,
 "nbformat_minor": 2
}
