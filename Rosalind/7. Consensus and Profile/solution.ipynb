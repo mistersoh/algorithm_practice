{
 "cells": [
  {
   "cell_type": "code",
   "execution_count": 38,
   "metadata": {},
   "outputs": [
    {
     "name": "stdout",
     "output_type": "stream",
     "text": [
      "Counter({0: 5, 4: 5, 5: 5, 1: 1})\n",
      "Counter({6: 6, 3: 4, 4: 2, 2: 1, 7: 1})\n",
      "Counter({2: 6, 3: 3, 5: 1, 0: 1, 1: 1})\n",
      "Counter({7: 6, 1: 5, 5: 1, 0: 1, 6: 1})\n"
     ]
    }
   ],
   "source": [
    "from collections import Counter\n",
    "\n",
    "f = open(\"test.txt\", \"r\")\n",
    "string = []\n",
    "res = []\n",
    "res_dict = {\"A\":[], \"C\":[], \"G\":[], \"T\": []}\n",
    "for i in f.readlines():\n",
    "    if \">\" not in i:\n",
    "        string.append(i.replace(\"\\n\",\"\"))\n",
    "\n",
    "for s in string:\n",
    "    side = []\n",
    "    for num,elem in enumerate(s):\n",
    "        side.append({elem:num})\n",
    "    res.append(side)\n",
    "\n",
    "res\n",
    "\n",
    "for i in res:\n",
    "    for j in i:\n",
    "        for key,val in j.items():\n",
    "            res_dict[key].append(val)\n",
    "\n",
    "for i in res_dict.values():\n",
    "    print(Counter(i))\n"
   ]
  }
 ],
 "metadata": {
  "kernelspec": {
   "display_name": "base",
   "language": "python",
   "name": "python3"
  },
  "language_info": {
   "codemirror_mode": {
    "name": "ipython",
    "version": 3
   },
   "file_extension": ".py",
   "mimetype": "text/x-python",
   "name": "python",
   "nbconvert_exporter": "python",
   "pygments_lexer": "ipython3",
   "version": "3.9.7"
  },
  "orig_nbformat": 4,
  "vscode": {
   "interpreter": {
    "hash": "38709400ec3aefb20b970684c6c04c6dd554d8452d33ffc6897a1dbcef2e7509"
   }
  }
 },
 "nbformat": 4,
 "nbformat_minor": 2
}
