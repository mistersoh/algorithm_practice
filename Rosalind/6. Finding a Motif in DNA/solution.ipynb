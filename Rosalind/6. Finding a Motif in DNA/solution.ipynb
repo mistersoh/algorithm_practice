{
 "cells": [
  {
   "cell_type": "code",
   "execution_count": 29,
   "metadata": {},
   "outputs": [
    {
     "data": {
      "text/plain": [
       "'GACTACGCGCAACGCGCAACAGCGCAACGCGCAACTTCCGCGCAACGCGCAACTTGCGCAACGCACGCGCAACGCGCAACGCGCAACGCGCAACGCGCAACTCCACCAAAGCGCAACGCGCAACCGCGCAACCTCGCGCAACCGCGCAACCGGGTGCGCAACAAGATAGCAGGCCCTAAGAGTTAGGCGCAACGCGCAACAGCGCAACAACACAGGCGCAACGCGCGCAACGCAGACCCTTGCGCAACCAGCGCGCAACGCGCAACAGGTCTGCGCAACGTGGCGCAACCTGCGCAACTCGCGCAACGCCACGGTGCGCAACGCGCAACGTTCCGCGCAACCGCGCAACGCGCAACATTAAACCTAGCGCAACAGTGCGCAACGAAGCGCAACAACGAGCGCAACGCGCAACAATATACGCGCAACCGGCACCGCGCAACGCGCAACACGGCGCAACGCGCAACTCGGCGCAACTCGTGGCGCAACCGCGCAACCGGGCGCAACTCGCGCAACAGCGCAACGCGCAACTAGCGCAACAACTTGAGCGCAACGTAGCGCAACGCCACATGCTGCGCAACGCGCAACCCGCACTGCGCAACGTAGCGCAACGCGGCGCAACGCGCAACACTTTTGCGCAACATAGGAATACATTGGCGCAACGGTGCGCAACCCAGCGCAACTGGGCGCAACCCCCTGCGCAACAAGAGAGCGCAACTTGCGCAACGCGAACGTATGCGCAACAATACCGCGCAACCTGGCTCGCGCAACGCGCAACTGCGCAACTCGCGCAACGCGCAACGCGCAACCTGCGCAACGCGCAACTTGAAGCGCAAC'"
      ]
     },
     "execution_count": 29,
     "metadata": {},
     "output_type": "execute_result"
    }
   ],
   "source": [
    "\n",
    "f = open(\"test.txt\", \"r\")\n",
    "s = f.readline()\n",
    "sub = \"GATGACTGA\"\n",
    "sub_range = len(sub)\n",
    "res = \"\"\n",
    "for i,j in enumerate(s):\n",
    "    if s[i:i+sub_range] == sub:\n",
    "        res = res + str(i+1) + \" \"\n",
    "\n",
    "res"
   ]
  }
 ],
 "metadata": {
  "kernelspec": {
   "display_name": "base",
   "language": "python",
   "name": "python3"
  },
  "language_info": {
   "codemirror_mode": {
    "name": "ipython",
    "version": 3
   },
   "file_extension": ".py",
   "mimetype": "text/x-python",
   "name": "python",
   "nbconvert_exporter": "python",
   "pygments_lexer": "ipython3",
   "version": "3.9.7"
  },
  "orig_nbformat": 4,
  "vscode": {
   "interpreter": {
    "hash": "38709400ec3aefb20b970684c6c04c6dd554d8452d33ffc6897a1dbcef2e7509"
   }
  }
 },
 "nbformat": 4,
 "nbformat_minor": 2
}
