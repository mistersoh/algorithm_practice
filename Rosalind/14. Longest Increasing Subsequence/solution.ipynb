{
 "cells": [
  {
   "cell_type": "code",
   "execution_count": 10,
   "metadata": {},
   "outputs": [
    {
     "name": "stdout",
     "output_type": "stream",
     "text": [
      "[[5, 4, 3], [5, 4, 2]]\n",
      "[[1, 2, 3]]\n"
     ]
    }
   ],
   "source": [
    "with open('test.txt','r') as f:\n",
    "    s = f.read().splitlines()\n",
    "\n",
    "\n",
    "int_s = [int(i) for i in s[1].split()]\n",
    "\n",
    "def find_decreasing(seq):\n",
    "    found=[]\n",
    "    for v in seq[::-1]:        \n",
    "        for iv in found[:]:\n",
    "            if v >= iv[0]:\n",
    "                found.append([v]+iv)\n",
    "        found.append([v])\n",
    "    return found\n",
    "\n",
    "def find_increasing(seq):\n",
    "    found=[]\n",
    "    for v in seq[::-1]:        \n",
    "        for iv in found[:]:\n",
    "            if v <= iv[0]:\n",
    "                found.append([v]+iv)\n",
    "        found.append([v])\n",
    "    return found\n",
    "\n",
    "decreasing = find_decreasing(int_s)\n",
    "increasing = find_increasing(int_s)\n",
    "max_len_dec = max(map(len,decreasing))\n",
    "max_len_inc = max(map(len,increasing))\n",
    "final_list_dec = list(filter(lambda a: len(a)==max_len_dec, decreasing))\n",
    "final_list_inc = list(filter(lambda a: len(a)==max_len_inc, increasing))\n",
    "print(final_list_dec)\n",
    "print(final_list_inc)"
   ]
  },
  {
   "cell_type": "code",
   "execution_count": 6,
   "metadata": {},
   "outputs": [
    {
     "data": {
      "text/plain": [
       "[[1, 2, 3]]"
      ]
     },
     "execution_count": 6,
     "metadata": {},
     "output_type": "execute_result"
    }
   ],
   "source": [
    "\n",
    "\n",
    "increasing = find_increasing(int_s)\n",
    "max_len = max(map(len,increasing))\n",
    "final_list = list(filter(lambda a: len(a)==max_len, increasing))\n",
    "final_list"
   ]
  }
 ],
 "metadata": {
  "kernelspec": {
   "display_name": "base",
   "language": "python",
   "name": "python3"
  },
  "language_info": {
   "codemirror_mode": {
    "name": "ipython",
    "version": 3
   },
   "file_extension": ".py",
   "mimetype": "text/x-python",
   "name": "python",
   "nbconvert_exporter": "python",
   "pygments_lexer": "ipython3",
   "version": "3.9.7 (default, Sep 16 2021, 16:59:28) [MSC v.1916 64 bit (AMD64)]"
  },
  "orig_nbformat": 4,
  "vscode": {
   "interpreter": {
    "hash": "38709400ec3aefb20b970684c6c04c6dd554d8452d33ffc6897a1dbcef2e7509"
   }
  }
 },
 "nbformat": 4,
 "nbformat_minor": 2
}
