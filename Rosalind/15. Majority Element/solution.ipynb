{
 "cells": [
  {
   "cell_type": "code",
   "execution_count": 110,
   "metadata": {},
   "outputs": [
    {
     "data": {
      "text/plain": [
       "'9021 2579 0 4733 2345 0 125 0 1193 0 5018 4232 0 5009 0 1163 0 5990 0'"
      ]
     },
     "execution_count": 110,
     "metadata": {},
     "output_type": "execute_result"
    }
   ],
   "source": [
    "with open('test.txt','r') as f:\n",
    "    s = f.read().splitlines()\n",
    "data = []\n",
    "\n",
    "row = int(s[0].split()[0])\n",
    "column = int(s[0].split()[1])\n",
    "for i in range(row):\n",
    "    data.append(' '.join(s[1:]).split()[i*column:(i+1)*column])\n",
    "\n",
    "\n",
    "from collections import Counter\n",
    "res = []\n",
    "def checker(data):\n",
    "    for i in data:\n",
    "        length = len(i)/2\n",
    "        count = Counter(i)\n",
    "        max_keys = [key for key, value in count.items() if value == max(count.values()) and value > length]\n",
    "        if max_keys:\n",
    "            res.extend(max_keys)\n",
    "        else:\n",
    "            res.extend('0')\n",
    "\n",
    "\n",
    "#     # res.append(-1)\n",
    "        \n",
    "checker(data)\n",
    "\n",
    "', '.join(str(item) for item in res).replace(', ', ' ')\n"
   ]
  },
  {
   "cell_type": "code",
   "execution_count": 106,
   "metadata": {},
   "outputs": [
    {
     "data": {
      "text/plain": [
       "['3758',\n",
       " '0',\n",
       " '5266',\n",
       " '0',\n",
       " '0',\n",
       " '0',\n",
       " '6332',\n",
       " '9293',\n",
       " '0',\n",
       " '0',\n",
       " '0',\n",
       " '2426',\n",
       " '9876',\n",
       " '7533',\n",
       " '0',\n",
       " '5977',\n",
       " '2156']"
      ]
     },
     "execution_count": 106,
     "metadata": {},
     "output_type": "execute_result"
    }
   ],
   "source": [
    "res"
   ]
  }
 ],
 "metadata": {
  "kernelspec": {
   "display_name": "base",
   "language": "python",
   "name": "python3"
  },
  "language_info": {
   "codemirror_mode": {
    "name": "ipython",
    "version": 3
   },
   "file_extension": ".py",
   "mimetype": "text/x-python",
   "name": "python",
   "nbconvert_exporter": "python",
   "pygments_lexer": "ipython3",
   "version": "3.9.7 (default, Sep 16 2021, 16:59:28) [MSC v.1916 64 bit (AMD64)]"
  },
  "orig_nbformat": 4,
  "vscode": {
   "interpreter": {
    "hash": "38709400ec3aefb20b970684c6c04c6dd554d8452d33ffc6897a1dbcef2e7509"
   }
  }
 },
 "nbformat": 4,
 "nbformat_minor": 2
}
