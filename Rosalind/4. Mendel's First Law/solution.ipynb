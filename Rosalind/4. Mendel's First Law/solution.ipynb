{
 "cells": [
  {
   "cell_type": "code",
   "execution_count": 4,
   "metadata": {},
   "outputs": [
    {
     "data": {
      "text/plain": [
       "0.6968421052631579"
      ]
     },
     "execution_count": 4,
     "metadata": {},
     "output_type": "execute_result"
    }
   ],
   "source": [
    "from collections import Counter\n",
    "import re\n",
    "f = open(\"test.txt\", \"r\")\n",
    "s = f.readline()\n",
    "\n",
    "d, h, r = 22, 24, 30\n",
    "\n",
    "total = d + h + r\n",
    "\n",
    "re_re = r/total * (r-1)/(total-1)\n",
    "\n",
    "re_he = (r/total * h/(total-1)) * 2 / 2\n",
    "\n",
    "he_he = (h/total * (h-1)/(total-1)) / 4\n",
    "\n",
    "res = 1- (re_re+re_he+he_he)\n",
    "\n",
    "res"
   ]
  }
 ],
 "metadata": {
  "kernelspec": {
   "display_name": "base",
   "language": "python",
   "name": "python3"
  },
  "language_info": {
   "codemirror_mode": {
    "name": "ipython",
    "version": 3
   },
   "file_extension": ".py",
   "mimetype": "text/x-python",
   "name": "python",
   "nbconvert_exporter": "python",
   "pygments_lexer": "ipython3",
   "version": "3.9.7 (default, Sep 16 2021, 16:59:28) [MSC v.1916 64 bit (AMD64)]"
  },
  "orig_nbformat": 4,
  "vscode": {
   "interpreter": {
    "hash": "38709400ec3aefb20b970684c6c04c6dd554d8452d33ffc6897a1dbcef2e7509"
   }
  }
 },
 "nbformat": 4,
 "nbformat_minor": 2
}
